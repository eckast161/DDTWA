{
  "nbformat": 4,
  "nbformat_minor": 0,
  "metadata": {
    "colab": {
      "name": "DDTWAvsDTWAvsPIQS0dot962Omegac.ipynb",
      "provenance": [],
      "collapsed_sections": [],
      "machine_shape": "hm"
    },
    "kernelspec": {
      "display_name": "Python 3",
      "language": "python",
      "name": "python3"
    },
    "language_info": {
      "codemirror_mode": {
        "name": "ipython",
        "version": 3
      },
      "file_extension": ".py",
      "mimetype": "text/x-python",
      "name": "python",
      "nbconvert_exporter": "python",
      "pygments_lexer": "ipython3",
      "version": "3.8.3"
    }
  },
  "cells": [
    {
      "cell_type": "code",
      "metadata": {
        "id": "18ZnPO2gME07"
      },
      "source": [
        "import matplotlib.pyplot as plt\n",
        "import numpy as np\n",
        "\n",
        "\"\"\"In order to provide a better presentation of the graphs we use the rcParams options shown below.\"\"\"\n",
        "\n",
        "import matplotlib\n",
        "matplotlib.rcParams['text.usetex'] = False\n",
        "matplotlib.rcParams['mathtext.fontset'] = 'stix'\n",
        "matplotlib.rcParams['font.family'] = 'STIXGeneral'\n",
        "matplotlib.rcParams['font.size'] = 15\n",
        "matplotlib.rcParams['figure.figsize'] = (11.0, 8.0)"
      ],
      "execution_count": 1,
      "outputs": []
    },
    {
      "cell_type": "code",
      "metadata": {
        "id": "1_6V0ywBME0_"
      },
      "source": [
        "import matplotlib.pyplot as plt\n",
        "from numpy import linalg as LA\n",
        "import scipy.special\n",
        "\n",
        "import time\n",
        "from scipy.integrate import odeint\n",
        "from scipy.special import zeta\n",
        "from random import choices\n",
        "\n",
        "from numpy import sin, cos, power\n"
      ],
      "execution_count": 2,
      "outputs": []
    },
    {
      "cell_type": "code",
      "metadata": {
        "id": "2iex6o1UME1C"
      },
      "source": [
        "import matplotlib.pyplot as plt\n",
        "import matplotlib as mpl\n",
        "from matplotlib import cm\n",
        "import numpy as np\n",
        "\n",
        "from scipy.optimize import minimize\n",
        "#from qutip import *\n",
        "#from qutip.piqs import *\n",
        "\n",
        "import matplotlib.animation as animation\n",
        "from IPython.display import HTML\n",
        "from IPython.core.display import Image, display"
      ],
      "execution_count": 3,
      "outputs": []
    },
    {
      "cell_type": "code",
      "metadata": {
        "id": "UBht7yCTME1F"
      },
      "source": [
        "\"\"\"Our system of differential equations belongs to the complex space, that is why we implemented the code suggested in\"\"\"\n",
        "\"\"\"https://stackoverflow.com/questions/19910189/scipy-odeint-with-complex-initial-values.\"\"\"\n",
        "\n",
        "import time\n",
        "import numpy as np\n",
        "from scipy.integrate import odeint\n",
        "from scipy.special import zeta\n",
        "from random import choices\n",
        "\n",
        "def odeintz(func, z0, t, **kwargs):\n",
        "   \n",
        "    \n",
        "    \"\"\"An odeint-like function for complex valued differential equations.\n",
        "\n",
        "    Inputs:\n",
        "    ----------\n",
        "      -func: function associated to dr/dt=f(x;t), where x is the set of parameters and variables to be determined\n",
        "      -z0: 1d array with length N*(5N-1)/2\n",
        "      -t: 1d array from t=0 to t=tf (parameter set by the user)\n",
        "      - **kwargs: keyword arguments related with external functions to be used in odeint\n",
        "    \n",
        "    Return:\n",
        "      -z: multivariable array with the solution of the differential equation associated with each variable\"\"\"\n",
        "\n",
        "    # Disallow Jacobian-related arguments.\n",
        "    _unsupported_odeint_args = ['Dfun', 'col_deriv', 'ml', 'mu']\n",
        "    bad_args = [arg for arg in kwargs if arg in _unsupported_odeint_args]\n",
        "    if len(bad_args) > 0:\n",
        "        raise ValueError(\"The odeint argument %r is not supported by \"\n",
        "                         \"odeintz.\" % (bad_args[0],))\n",
        "\n",
        "    # Make sure z0 is a numpy array of type np.complex128.\n",
        "    z0 = np.array(z0, dtype=np.complex128, ndmin=1)\n",
        "\n",
        "    def realfunc(x, t, *args):\n",
        "        z = x.view(np.complex128)\n",
        "        dzdt = func(z, t, *args)\n",
        "        # func might return a python list, so convert its return\n",
        "        # value to an array with type np.complex128, and then return\n",
        "        # a np.float64 view of that array.\n",
        "        return np.asarray(dzdt, dtype=np.complex128).view(np.float64)\n",
        "\n",
        "    result = odeint(realfunc, z0.view(np.float64), t, **kwargs)\n",
        "\n",
        "    if kwargs.get('full_output', False):\n",
        "        z = result[0].view(np.complex128)\n",
        "        infodict = result[1]\n",
        "        return z, infodict\n",
        "    else:\n",
        "        z = result.view(np.complex128)\n",
        "        return z"
      ],
      "execution_count": 4,
      "outputs": []
    },
    {
      "cell_type": "markdown",
      "metadata": {
        "id": "ihRaBJ6VME1H"
      },
      "source": [
        "## Euler-Maruyama"
      ]
    },
    {
      "cell_type": "code",
      "metadata": {
        "id": "gHQaWSrEME1I"
      },
      "source": [
        "import numpy as np\n",
        "import matplotlib.pyplot as plt\n",
        "%matplotlib inline\n",
        "from numpy import random, zeros\n",
        "\n",
        "from numba import jit\n",
        "\n",
        "dt = 0.0003 # Time step.\n",
        "T = 400 # Total time.\n",
        "n = int(T / dt) # Number of time steps.\n",
        "steps=int(T/dt)\n",
        "\n",
        "times = np.linspace(0., T, n)\n",
        "\n",
        "\n",
        "J=1\n",
        "N=400\n",
        "\n",
        "refg     = 1 #I multiply by sqrt(N) for getting back the hamiltonian of the form g(aS_+a^{\\dagger}S+) \n",
        "refdelta=  0\n",
        "refkappa= 10\n",
        "refgamma= 0\n",
        "refomega = 0.962*(refg **2)/refkappa\n",
        "\n",
        "\n",
        "    \n",
        "Omega =refomega*J\n",
        "g_coef=refg*J\n",
        "Delta=refdelta*J\n",
        "kappa=refkappa*J\n",
        "Gamma_phi=refgamma*J\n",
        "    \n",
        "\n",
        "Gamma_du=0  #Fixed\n",
        "\n",
        "\n",
        "Stochastic=1   #Is the process stochastic?\n",
        "sqrt_N=np.sqrt(N)\n",
        "sqrt_2phi=np.sqrt(2*Gamma_phi)\n",
        "\n",
        "theta=np.pi/2   #Initial state\n",
        "phi=0\n",
        "\n",
        "\n",
        "\n",
        "#set the initial values due to the measurements in the state |\\psi>=cos(\\theta/2)|0>+sin(\\theta/2)|1>\n",
        "\n",
        "from scipy import stats\n",
        "mk = np.array([-1,1])\n",
        "\n",
        "\n",
        "xp= (0.5*(1-np.sin(theta)*np.cos(phi)),0.5*(1+np.sin(theta)*np.cos(phi)))\n",
        "yp= (0.5*(1-np.sin(theta)*np.sin(phi)),0.5*(1+np.sin(theta)*np.sin(phi)))\n",
        "zp = ((np.cos(theta/2))**2, (np.sin(theta/2))**2)\n",
        "\n",
        "\n",
        "#xp=(0.5,0.5)\n",
        "#yp=(0.5,0.5)\n",
        "#zp=(1,0)\n",
        "\n",
        "\n",
        "\n",
        "custmx = stats.rv_discrete(name='custmx', values=(mk, xp))\n",
        "custmy = stats.rv_discrete(name='custmy', values=(mk, yp))\n",
        "custmz = stats.rv_discrete(name='custmz', values=(mk, zp))\n",
        "\n",
        "\n",
        "\n",
        "\n",
        "@jit\n",
        "\n",
        "def trayectory(Stochastic,N=N):\n",
        "    sqrtdt = np.sqrt(dt)*Stochastic\n",
        "    \n",
        "    Results =zeros((3*N+2, n))\n",
        "    Results[3*N][0]  =np.random.normal(0, 0.5)\n",
        "    Results[3*N+1][0]=np.random.normal(0, 0.5)\n",
        "    \n",
        "    for j in range(N):\n",
        "        \n",
        "        a=custmx.rvs()\n",
        "        b=custmy.rvs()\n",
        "        c=custmz.rvs()\n",
        "        \n",
        "        Results[j][0]    =a  \n",
        "        Results[j+N][0]  =b\n",
        "        Results[j+2*N][0]=c\n",
        "        \n",
        "    \n",
        "    for t in range(n-1):\n",
        "        \n",
        "        Normal_VA_1=random.randn() #np.random.normal(0, 1)\n",
        "        Normal_VA_2=random.randn() #np.random.normal(0, 1)\n",
        "        \n",
        "        Results[3*N][t+1]   = Results[3*N][t]  +dt*Delta*Results[3*N+1][t]+\\\n",
        "            -kappa*Results[3*N][t]*dt+np.sqrt(kappa/2)* sqrtdt * Normal_VA_1\n",
        "        Results[3*N+1][t+1] = Results[3*N+1][t]-dt*Delta* Results[3*N][t]+\\\n",
        "            -kappa*Results[3*N+1][t]*dt+np.sqrt(kappa/2)*sqrtdt * Normal_VA_2\n",
        "        \n",
        "        Normal_VA=random.randn()   #np.random.normal(0, 1)\n",
        "        \n",
        "        \n",
        "        for i in range(N): \n",
        "            \n",
        "            Results[i][t+1]    = Results[i][t]+dt*(-2*g_coef/sqrt_N)*Results[3*N+1][t]*Results[i+2*N][t]-\\\n",
        "                dt*Gamma_phi*Results[i][t]-sqrt_2phi*Results[i+N][t]* sqrtdt * Normal_VA\n",
        "            \n",
        "            Results[i+N][t+1]  = Results[i+N][t]+dt*(-2*g_coef/sqrt_N)*Results[3*N][t]*Results[i+2*N][t]-dt*Omega*Results[i+2*N][t]+\\\n",
        "                -dt*Gamma_phi*Results[i+N][t]+sqrt_2phi*Results[i][t]* sqrtdt * Normal_VA\n",
        "            \n",
        "            Results[i+2*N][t+1]= Results[i+2*N][t]+dt*(2*g_coef/sqrt_N)*Results[3*N][t]*Results[i+N][t]+\\\n",
        "                dt*(2*g_coef/sqrt_N)*Results[3*N+1][t]*Results[i][t]+dt*Omega*Results[i+N][t]\n",
        "            \n",
        "            Results[3*N][t+1]   += -(g_coef/(2*sqrt_N))*Results[i+N][t]*dt\n",
        "            Results[3*N+1][t+1] += -(g_coef/(2*sqrt_N))*Results[i][t]*dt\n",
        "            \n",
        "    return Results\n"
      ],
      "execution_count": 6,
      "outputs": []
    },
    {
      "cell_type": "code",
      "metadata": {
        "id": "lfZ_rgNKME1N"
      },
      "source": [
        ""
      ],
      "execution_count": 6,
      "outputs": []
    },
    {
      "cell_type": "code",
      "metadata": {
        "id": "0x24wM9XME1T"
      },
      "source": [
        ""
      ],
      "execution_count": 6,
      "outputs": []
    },
    {
      "cell_type": "code",
      "metadata": {
        "id": "6tqpPeQ7ME1V"
      },
      "source": [
        "from numpy import mean\n",
        "from numpy import linalg,transpose, dot\n",
        "\n",
        "\n",
        "\n",
        "from numba import jit\n",
        "@jit\n",
        "\n",
        "def summary_stat(Res,N=N,n=n):\n",
        "    Results =zeros((14, n))\n",
        "    count=0\n",
        "    while count<n:\n",
        "        a,b,c=Res[0:N, count:count+1],Res[N:2*N, count:count+1],Res[2*N:3*N, count:count+1]\n",
        "        \n",
        "        Results[0][count],Results[1][count],Results[2][count]=N*mean(a)/2,N*mean(b)/2,N*mean(c)/2\n",
        "        Results[3][count]=0.25*(  (N*mean(a))**2- (linalg.norm(a,2))**2 )\n",
        "        Results[4][count]=0.25*(  (N*mean(b))**2- (linalg.norm(b,2))**2 )\n",
        "        Results[5][count]=0.25*(  (N*mean(c))**2- (linalg.norm(c,2))**2 )\n",
        "        Results[6][count]=(N*mean(a)/2)**2\n",
        "        Results[7][count]=(N*mean(b)/2)**2\n",
        "        Results[8][count]=(N*mean(c)/2)**2\n",
        "        \n",
        "        alpha_x=mean(Res[3*N:3*N+1, count:count+1])\n",
        "        alpha_y=mean(Res[3*N+1:3*N+2, count:count+1])\n",
        "        \n",
        "        alpha_cuad=alpha_x**2+alpha_y**2\n",
        "        \n",
        "        Results[9][count]=alpha_cuad  #np.power(alpha_x,2)+np.power(alpha_y,2)-0.5\n",
        "        Results[10][count]=alpha_cuad**2-2*alpha_cuad+0.5\n",
        "\n",
        "        Results[11][count]=Results[0][count]*Results[1][count]-0.25*dot(transpose(a)[0],transpose(b)[0])    #xy\n",
        "        Results[12][count]=Results[1][count]*Results[2][count]-0.25*dot(transpose(b)[0],transpose(c)[0])    #yz\n",
        "        Results[13][count]=Results[2][count]*Results[0][count]-0.25*dot(transpose(c)[0],transpose(a)[0])    #zx\n",
        "        \n",
        "        count=count+1\n",
        "        \n",
        "    \n",
        "    return Results   "
      ],
      "execution_count": 7,
      "outputs": []
    },
    {
      "cell_type": "code",
      "metadata": {
        "id": "CWBwTpnvME1Y"
      },
      "source": [
        ""
      ],
      "execution_count": 7,
      "outputs": []
    },
    {
      "cell_type": "code",
      "metadata": {
        "id": "pqagx9u3ME1Z"
      },
      "source": [
        ""
      ],
      "execution_count": 7,
      "outputs": []
    },
    {
      "cell_type": "code",
      "metadata": {
        "id": "5TDE-7u0ME1Z"
      },
      "source": [
        ""
      ],
      "execution_count": 7,
      "outputs": []
    },
    {
      "cell_type": "code",
      "metadata": {
        "id": "UlgX65DWME1a"
      },
      "source": [
        "from numpy import add\n",
        "from numba import jit\n",
        "\n",
        "\n",
        "\n",
        "itera=5000\n",
        "@jit\n",
        "\n",
        "def averages(Stochastic,itera=itera,N=N,n=n):\n",
        "    Results =zeros((14, n))\n",
        "    for j in range(itera):\n",
        "        Trayec=trayectory(Stochastic,N=N)\n",
        "        Results=add(Results,summary_stat(Trayec,N,n))\n",
        "    \n",
        "    return Results/itera\n",
        "    \n",
        "    \n",
        "    \n",
        "    "
      ],
      "execution_count": 8,
      "outputs": []
    },
    {
      "cell_type": "code",
      "metadata": {
        "id": "pcjQmvL5ME1b"
      },
      "source": [
        ""
      ],
      "execution_count": 8,
      "outputs": []
    },
    {
      "cell_type": "code",
      "metadata": {
        "colab": {
          "base_uri": "https://localhost:8080/"
        },
        "id": "T9h6_ea5ME1c",
        "outputId": "57f7cf52-1f40-40a1-b02c-00c9b882a222"
      },
      "source": [
        "t0=time.time()\n",
        "\n",
        "itera=120\n",
        "\n",
        "Result_varDDTWA_EM=averages(1,itera=itera,N=N,n=n)\n",
        "#Result_varDTWA=averages(0,itera=itera,N=N,n=n)\n",
        "\n",
        "t1=time.time()\n",
        "\n",
        "print(t1-t0)\n",
        "\n"
      ],
      "execution_count": null,
      "outputs": [
        {
          "output_type": "stream",
          "text": [
            "<ipython-input-8-6d45fc1f6958>:7: NumbaWarning: \n",
            "Compilation is falling back to object mode WITH looplifting enabled because Function \"averages\" failed type inference due to: Invalid use of type(CPUDispatcher(<function trayectory at 0x7f229c9c08c0>)) with parameters (int64, N=int64)\n",
            "\n",
            "During: resolving callee type: type(CPUDispatcher(<function trayectory at 0x7f229c9c08c0>))\n",
            "During: typing of call at <ipython-input-8-6d45fc1f6958> (12)\n",
            "\n",
            "\n",
            "File \"<ipython-input-8-6d45fc1f6958>\", line 12:\n",
            "def averages(Stochastic,itera=itera,N=N,n=n):\n",
            "    <source elided>\n",
            "    for j in range(itera):\n",
            "        Trayec=trayectory(Stochastic,N=N)\n",
            "        ^\n",
            "\n",
            "  @jit\n",
            "<ipython-input-8-6d45fc1f6958>:7: NumbaWarning: \n",
            "Compilation is falling back to object mode WITHOUT looplifting enabled because Function \"averages\" failed type inference due to: cannot determine Numba type of <class 'numba.core.dispatcher.LiftedLoop'>\n",
            "\n",
            "File \"<ipython-input-8-6d45fc1f6958>\", line 11:\n",
            "def averages(Stochastic,itera=itera,N=N,n=n):\n",
            "    <source elided>\n",
            "    Results =zeros((14, n))\n",
            "    for j in range(itera):\n",
            "    ^\n",
            "\n",
            "  @jit\n",
            "/usr/local/lib/python3.7/dist-packages/numba/core/object_mode_passes.py:178: NumbaWarning: Function \"averages\" was compiled in object mode without forceobj=True, but has lifted loops.\n",
            "\n",
            "File \"<ipython-input-8-6d45fc1f6958>\", line 10:\n",
            "def averages(Stochastic,itera=itera,N=N,n=n):\n",
            "    Results =zeros((14, n))\n",
            "    ^\n",
            "\n",
            "  state.func_ir.loc))\n",
            "/usr/local/lib/python3.7/dist-packages/numba/core/object_mode_passes.py:188: NumbaDeprecationWarning: \n",
            "Fall-back from the nopython compilation path to the object mode compilation path has been detected, this is deprecated behaviour.\n",
            "\n",
            "For more information visit https://numba.pydata.org/numba-doc/latest/reference/deprecation.html#deprecation-of-object-mode-fall-back-behaviour-when-using-jit\n",
            "\n",
            "File \"<ipython-input-8-6d45fc1f6958>\", line 10:\n",
            "def averages(Stochastic,itera=itera,N=N,n=n):\n",
            "    Results =zeros((14, n))\n",
            "    ^\n",
            "\n",
            "  state.func_ir.loc))\n",
            "<ipython-input-8-6d45fc1f6958>:7: NumbaWarning: \n",
            "Compilation is falling back to object mode WITHOUT looplifting enabled because Function \"averages\" failed type inference due to: Invalid use of type(CPUDispatcher(<function trayectory at 0x7f229c9c08c0>)) with parameters (int64, N=int64)\n",
            "\n",
            "During: resolving callee type: type(CPUDispatcher(<function trayectory at 0x7f229c9c08c0>))\n",
            "During: typing of call at <ipython-input-8-6d45fc1f6958> (12)\n",
            "\n",
            "\n",
            "File \"<ipython-input-8-6d45fc1f6958>\", line 12:\n",
            "def averages(Stochastic,itera=itera,N=N,n=n):\n",
            "    <source elided>\n",
            "    for j in range(itera):\n",
            "        Trayec=trayectory(Stochastic,N=N)\n",
            "        ^\n",
            "\n",
            "  @jit\n",
            "/usr/local/lib/python3.7/dist-packages/numba/core/object_mode_passes.py:178: NumbaWarning: Function \"averages\" was compiled in object mode without forceobj=True.\n",
            "\n",
            "File \"<ipython-input-8-6d45fc1f6958>\", line 11:\n",
            "def averages(Stochastic,itera=itera,N=N,n=n):\n",
            "    <source elided>\n",
            "    Results =zeros((14, n))\n",
            "    for j in range(itera):\n",
            "    ^\n",
            "\n",
            "  state.func_ir.loc))\n",
            "/usr/local/lib/python3.7/dist-packages/numba/core/object_mode_passes.py:188: NumbaDeprecationWarning: \n",
            "Fall-back from the nopython compilation path to the object mode compilation path has been detected, this is deprecated behaviour.\n",
            "\n",
            "For more information visit https://numba.pydata.org/numba-doc/latest/reference/deprecation.html#deprecation-of-object-mode-fall-back-behaviour-when-using-jit\n",
            "\n",
            "File \"<ipython-input-8-6d45fc1f6958>\", line 11:\n",
            "def averages(Stochastic,itera=itera,N=N,n=n):\n",
            "    <source elided>\n",
            "    Results =zeros((14, n))\n",
            "    for j in range(itera):\n",
            "    ^\n",
            "\n",
            "  state.func_ir.loc))\n",
            "<ipython-input-6-7d27868c977d>:70: NumbaWarning: \n",
            "Compilation is falling back to object mode WITHOUT looplifting enabled because Function \"trayectory\" failed type inference due to: Untyped global name 'custmx': cannot determine Numba type of <class 'scipy.stats._distn_infrastructure.rv_sample'>\n",
            "\n",
            "File \"<ipython-input-6-7d27868c977d>\", line 81:\n",
            "def trayectory(Stochastic,N=N):\n",
            "    <source elided>\n",
            "        \n",
            "        a=custmx.rvs()\n",
            "        ^\n",
            "\n",
            "  @jit\n",
            "/usr/local/lib/python3.7/dist-packages/numba/core/object_mode_passes.py:178: NumbaWarning: Function \"trayectory\" was compiled in object mode without forceobj=True.\n",
            "\n",
            "File \"<ipython-input-6-7d27868c977d>\", line 79:\n",
            "def trayectory(Stochastic,N=N):\n",
            "    <source elided>\n",
            "    \n",
            "    for j in range(N):\n",
            "    ^\n",
            "\n",
            "  state.func_ir.loc))\n",
            "/usr/local/lib/python3.7/dist-packages/numba/core/object_mode_passes.py:188: NumbaDeprecationWarning: \n",
            "Fall-back from the nopython compilation path to the object mode compilation path has been detected, this is deprecated behaviour.\n",
            "\n",
            "For more information visit https://numba.pydata.org/numba-doc/latest/reference/deprecation.html#deprecation-of-object-mode-fall-back-behaviour-when-using-jit\n",
            "\n",
            "File \"<ipython-input-6-7d27868c977d>\", line 79:\n",
            "def trayectory(Stochastic,N=N):\n",
            "    <source elided>\n",
            "    \n",
            "    for j in range(N):\n",
            "    ^\n",
            "\n",
            "  state.func_ir.loc))\n",
            "<ipython-input-7-85d78505a264>:31: NumbaPerformanceWarning: np.dot() is faster on contiguous arrays, called on (array(float64, 1d, A), array(float64, 1d, A))\n",
            "  Results[11][count]=Results[0][count]*Results[1][count]-0.25*dot(transpose(a)[0],transpose(b)[0])    #xy\n",
            "<ipython-input-7-85d78505a264>:32: NumbaPerformanceWarning: np.dot() is faster on contiguous arrays, called on (array(float64, 1d, A), array(float64, 1d, A))\n",
            "  Results[12][count]=Results[1][count]*Results[2][count]-0.25*dot(transpose(b)[0],transpose(c)[0])    #yz\n",
            "<ipython-input-7-85d78505a264>:33: NumbaPerformanceWarning: np.dot() is faster on contiguous arrays, called on (array(float64, 1d, A), array(float64, 1d, A))\n",
            "  Results[13][count]=Results[2][count]*Results[0][count]-0.25*dot(transpose(c)[0],transpose(a)[0])    #zx\n"
          ],
          "name": "stderr"
        }
      ]
    },
    {
      "cell_type": "code",
      "metadata": {
        "id": "HKm5cF3fME1d"
      },
      "source": [
        ""
      ],
      "execution_count": null,
      "outputs": []
    },
    {
      "cell_type": "markdown",
      "metadata": {
        "id": "PRqjlUAOME1d"
      },
      "source": [
        "## Results DDTWA"
      ]
    },
    {
      "cell_type": "code",
      "metadata": {
        "id": "otp0V1XpME1d"
      },
      "source": [
        ""
      ],
      "execution_count": null,
      "outputs": []
    },
    {
      "cell_type": "code",
      "metadata": {
        "id": "UtH-tjQZME1e"
      },
      "source": [
        "matplotlib.rcParams['figure.figsize'] = (10.0, 6.5)\n",
        "\n",
        "j_max = N/2.\n",
        "label_size = 20\n",
        "\n",
        "\n",
        "fig3 = plt.figure(3)\n",
        "#plt.plot(t, nphot_t, 'k-', label='Time evolution')\n",
        "plt.title(r'Quantum Dynamics Photon Number', fontsize = label_size)\n",
        "plt.xlabel(r'$t$', fontsize = label_size)\n",
        "#plt.ylabel(r'$\\langle a^\\dagger a\\rangle(t)$', fontsize = label_size)\n",
        "plt.ylabel(r'$\\langle a^{\\dagger}a \\rangle(t)$', fontsize = label_size)\n",
        "\n",
        "\n",
        "plt.plot(times, Result_varDDTWA_EM[9]-0.5,\"--\",label=\"$a^{\\dagger}a$ DDTWA EM\")\n",
        "#plt.plot(times, Result_varDTWA[9]-0.5,\"--\",label=\"$a^{\\dagger}a$ DTWA EM\")\n",
        "\n",
        "#plt.plot(times, Result_varDDTWA_SH[9]-0.5,\"--\",label=\"$a^{\\dagger}a$ DDTWA SH\")\n",
        "\n",
        "\n",
        "#plt.legend(fontsize = label_size)\n",
        "plt.legend()\n",
        "plt.show()\n",
        "plt.close()"
      ],
      "execution_count": null,
      "outputs": []
    },
    {
      "cell_type": "code",
      "metadata": {
        "id": "K7Vuo9GXME1f"
      },
      "source": [
        "matplotlib.rcParams['figure.figsize'] = (10.0, 6.5)\n",
        "\n",
        "j_max = N/2.\n",
        "label_size = 20\n",
        "\n",
        "\n",
        "fig3 = plt.figure(3)\n",
        "plt.title(r'Quantum Evolution of $S_k$', fontsize = label_size)\n",
        "plt.xlabel(r'$t$', fontsize = label_size)\n",
        "#plt.ylabel(r'$\\langle a^\\dagger a\\rangle(t)$', fontsize = label_size)\n",
        "plt.ylabel(r'$\\langle S_k \\rangle(t)$', fontsize = label_size)\n",
        "\n",
        "\n",
        "plt.plot(times, Result_varDDTWA_EM[0],\"--\",label=\"$S_x$ DDTWA EM\")\n",
        "\n",
        "plt.plot(times, Result_varDDTWA_EM[1],\"--\",label=\"$S_y$ DDTWA EM\")\n",
        "\n",
        "plt.plot(times, Result_varDDTWA_EM[2],\"--\",label=\"$S_z$ DDTWA EM\")\n",
        "\n",
        "#plt.plot(times, Result_varDTWA[0],\"-\",label=\"$S_x$ DTWA EM\")\n",
        "\n",
        "#plt.plot(times, Result_varDTWA[1],\"-\",label=\"$S_y$ DTWA EM\")\n",
        "\n",
        "#plt.plot(times, Result_varDTWA[2],\"-\",label=\"$S_z$ DTWA EM\")\n",
        "\n",
        "#plt.plot(times, Result_varDDTWA_SH[0],\"--\",label=\"$S_x$ DDTWA SH\")\n",
        "\n",
        "#plt.plot(times, Result_varDDTWA_SH[1],\"--\",label=\"$S_y$ DDTWA SH\")\n",
        "\n",
        "#plt.plot(times, Result_varDDTWA_SH[2],\"--\",label=\"$S_z$ DDTWA SH\")\n",
        "\n",
        "\n",
        "plt.plot(times, 0*times,\"-\",label=\"$<S_k>=0$\")\n",
        "\n",
        "#plt.legend(fontsize = label_size)\n",
        "plt.legend(loc=\"upper right\")\n",
        "plt.show()\n",
        "plt.close()"
      ],
      "execution_count": null,
      "outputs": []
    },
    {
      "cell_type": "code",
      "metadata": {
        "id": "VwFLDAFkME1g"
      },
      "source": [
        ""
      ],
      "execution_count": null,
      "outputs": []
    },
    {
      "cell_type": "code",
      "metadata": {
        "id": "5-J44CrtME1g"
      },
      "source": [
        ""
      ],
      "execution_count": null,
      "outputs": []
    },
    {
      "cell_type": "code",
      "metadata": {
        "id": "wSvGrTe4ME1h"
      },
      "source": [
        "matplotlib.rcParams['figure.figsize'] = (10.0, 6.5)\n",
        "\n",
        "j_max = N/2.\n",
        "label_size = 20\n",
        "\n",
        "\n",
        "fig3 = plt.figure(3)\n",
        "#plt.plot(t, nphot_t, 'k-', label='Time evolution')\n",
        "plt.title(r'Quantum Dynamics $a^{\\dagger}a^{\\dagger}aa$', fontsize = label_size)\n",
        "plt.xlabel(r'$t$', fontsize = label_size)\n",
        "#plt.ylabel(r'$\\langle a^\\dagger a\\rangle(t)$', fontsize = label_size)\n",
        "plt.ylabel(r'$\\langle a^{\\dagger}a^{\\dagger} aa \\rangle(t)$', fontsize = label_size)\n",
        "\n",
        "\n",
        "plt.plot(times, Result_varDDTWA_EM[10],\"--\",label=\"$a^{\\dagger}a^{\\dagger}aa$ DDTWA EM\")\n",
        "#plt.plot(times, Result_varDTWA[10],\"--\",label=\"$a^{\\dagger}a^{\\dagger}aa$ DTWA EM\")\n",
        "#plt.plot(times, Result_varDDTWA_SH[10],\"--\",label=\"$a^{\\dagger}a^{\\dagger}aa$ DDTWA SH\")\n",
        "\n",
        "\n",
        "\n",
        "\n",
        "#plt.legend(fontsize = label_size)\n",
        "plt.legend()\n",
        "plt.show()\n",
        "plt.close()"
      ],
      "execution_count": null,
      "outputs": []
    },
    {
      "cell_type": "code",
      "metadata": {
        "id": "mEFWhUutME1h"
      },
      "source": [
        "# DESCRIPTION OF MOMENTS OF S_k\n",
        "\n",
        "Sxx=N/4+  Result_varDDTWA_EM[3+0]\n",
        "Syy=N/4+  Result_varDDTWA_EM[3+1]\n",
        "Szz=N/4+  Result_varDDTWA_EM[3+2]\n",
        "\n",
        "#Sxx_nn=N/4+  Result_varDTWA[3+0]\n",
        "#Syy_nn=N/4+  Result_varDTWA[3+1]\n",
        "#Szz_nn=N/4+  Result_varDTWA[3+2]\n",
        "\n",
        "\n"
      ],
      "execution_count": null,
      "outputs": []
    },
    {
      "cell_type": "code",
      "metadata": {
        "id": "R2J0-wIfME1h"
      },
      "source": [
        ""
      ],
      "execution_count": null,
      "outputs": []
    },
    {
      "cell_type": "code",
      "metadata": {
        "id": "JuJdZZxmME1i"
      },
      "source": [
        "matplotlib.rcParams['figure.figsize'] = (10.0, 6.5)\n",
        "\n",
        "j_max = N/2.\n",
        "label_size = 20\n",
        "\n",
        "\n",
        "fig3 = plt.figure(3)\n",
        "#plt.plot(t, nphot_t, 'k-', label='Time evolution')\n",
        "plt.title(r'Quantum Dynamics $\\Delta (S_k^2)$', fontsize = label_size)\n",
        "plt.xlabel(r'$t$', fontsize = label_size)\n",
        "#plt.ylabel(r'$\\langle a^\\dagger a\\rangle(t)$', fontsize = label_size)\n",
        "plt.ylabel(r'$\\Delta (S_k^2) (t)$', fontsize = label_size)\n",
        "\n",
        "\n",
        "axEM=N/4+  Result_varDDTWA_EM[3+0]-(Result_varDDTWA_EM[0])**2\n",
        "ayEM=N/4+  Result_varDDTWA_EM[3+1]-(Result_varDDTWA_EM[1])**2\n",
        "azEM=N/4+  Result_varDDTWA_EM[3+2]-(Result_varDDTWA_EM[2])**2\n",
        "\n",
        "\n",
        "#axEM_nn=N/4+  Result_varDTWA[3+0]-(Result_varDTWA[0])**2\n",
        "#ayEM_nn=N/4+  Result_varDTWA[3+1]-(Result_varDTWA[1])**2\n",
        "#azEM_nn=N/4+  Result_varDTWA[3+2]-(Result_varDTWA[2])**2\n",
        "\n",
        "\n",
        "#Use for unitary dynamics solely\n",
        "\n",
        "#ax1EM=np.array(Result_varDDTWA_EM[6+0])-np.array((Result_varDDTWA_EM[0])**2)\n",
        "#ay1EM=np.array(Result_varDDTWA_EM[6+1])-np.array((Result_varDDTWA_EM[1])**2)\n",
        "#az1EM=np.array(Result_varDDTWA_EM[6+2])-np.array((Result_varDDTWA_EM[2])**2)\n",
        "\n",
        "\n",
        "\n",
        "\n",
        "#axSH=N/4+  Result_varDDTWA_SH[3+0]-(Result_varDDTWA_SH[0])**2\n",
        "#aySH=N/4+  Result_varDDTWA_SH[3+1]-(Result_varDDTWA_SH[1])**2\n",
        "#azSH=N/4+  Result_varDDTWA_SH[3+2]-(Result_varDDTWA_SH[2])**2\n",
        "\n",
        "\n",
        "#Use for unitary dynamics solely\n",
        "\n",
        "#ax1SH=np.array(Result_varDDTWA_SH[6+0])-np.array((Result_varDDTWA_SH[0])**2)\n",
        "#ay1SH=np.array(Result_varDDTWA_SH[6+1])-np.array((Result_varDDTWA_SH[1])**2)\n",
        "#az1SH=np.array(Result_varDDTWA_SH[6+2])-np.array((Result_varDDTWA_SH[2])**2)\n",
        "\n",
        "\n",
        "\n",
        "plt.plot(times,axEM,\"-.\",label=\"DDTWA $(\\Delta S_x)^2 $ EM\")\n",
        "plt.plot(times,ayEM,\"-.\",label=\"DDTWA $(\\Delta S_y)^2 $ EM\")\n",
        "plt.plot(times,azEM,\"-.\",label=\"DDTWA $(\\Delta S_z)^2 $ EM\")\n",
        "\n",
        "\n",
        "#plt.plot(times,axEM_nn,\"-\",label=\"DTWA $(\\Delta S_x)^2 $ EM\")\n",
        "#plt.plot(times,ayEM_nn,\"-\",label=\"DTWA $(\\Delta S_y)^2 $ EM\")\n",
        "#plt.plot(times,azEM_nn,\"-\",label=\"DTWA $(\\Delta S_z)^2 $ EM\")\n",
        "#plt.plot(times,axSH,\"-.\",label=\"DDTWA $(\\Delta S_x)^2 $ SH\")\n",
        "#plt.plot(times,aySH,\"-.\",label=\"DDTWA $(\\Delta S_y)^2 $ SH\")\n",
        "#plt.plot(times,azSH,\"-.\",label=\"DDTWA $(\\Delta S_z)^2 $ SH\")\n",
        "\n",
        "\n",
        "plt.legend()\n",
        "\n",
        "plt.legend(loc=\"upper right\")"
      ],
      "execution_count": null,
      "outputs": []
    },
    {
      "cell_type": "code",
      "metadata": {
        "id": "jxgO9NOMME1i"
      },
      "source": [
        ""
      ],
      "execution_count": null,
      "outputs": []
    },
    {
      "cell_type": "code",
      "metadata": {
        "id": "S92fqZ3iME1l"
      },
      "source": [
        ""
      ],
      "execution_count": null,
      "outputs": []
    },
    {
      "cell_type": "code",
      "metadata": {
        "id": "czFZYPn-ME1l"
      },
      "source": [
        ""
      ],
      "execution_count": null,
      "outputs": []
    },
    {
      "cell_type": "code",
      "metadata": {
        "id": "EiQfjktUME1l"
      },
      "source": [
        "f = lambda x, Sxx, Syy, Szz, Sxys, Syzs, Szxs, Sx, Sy, Sz: Sxx*power(cos(x[0])*sin(x[1]),2)+\\\n",
        "    Syy*power(sin(x[0])*sin(x[1]),2)+Szz*power(cos(x[1]),2)+Sxys*sin(2*x[0])*power(sin(x[1]),2)+\\\n",
        "    Syzs*sin(2*x[1])*sin(x[0])+Szxs*sin(2*x[1])*cos(x[0])\n",
        "\n",
        "\n",
        "Squeez=[]\n",
        "\n",
        "Arraytime=[]\n",
        "\n",
        "separ=1000\n",
        "\n",
        "\n",
        "for j in range(int(steps/separ)):\n",
        "    \n",
        "    j=separ*j\n",
        "    \n",
        "    Sx= Result_varDDTWA_EM[0][j]\n",
        "    Sy= Result_varDDTWA_EM[1][j]\n",
        "    Sz= Result_varDDTWA_EM[2][j]\n",
        "    \n",
        "    Sxx= N/4+Result_varDDTWA_EM[3][j]\n",
        "    Syy= N/4+Result_varDDTWA_EM[4][j]\n",
        "    Szz= N/4+Result_varDDTWA_EM[5][j]\n",
        "    \n",
        "    Sxy= Result_varDDTWA_EM[11][j]\n",
        "    Syz= Result_varDDTWA_EM[12][j]\n",
        "    Szx= Result_varDDTWA_EM[13][j]\n",
        "    \n",
        "    cons = ({'type': 'eq', 'fun': lambda x: Sx*cos(x[0])*sin(x[1])+Sy*sin(x[0])*sin(x[1])+Sz*cos(x[1])})\n",
        "    \n",
        "    res = minimize(f, [0,0], constraints=cons, args=(Sxx,Syy,Szz,Sxy,Syz,Szx,Sx,Sy,Sz), tol=1e-17)\n",
        "    Squeez.append(res.fun*N/(Sx**2+Sy**2+Sz**2+1e-6))\n",
        "    \n",
        "    Arraytime.append(times[j])"
      ],
      "execution_count": null,
      "outputs": []
    },
    {
      "cell_type": "code",
      "metadata": {
        "id": "ZaTR-N1JME1m"
      },
      "source": [
        "matplotlib.rcParams['figure.figsize'] = (10.0, 6.5)\n",
        "\n",
        "j_max = N/2.\n",
        "label_size = 20\n",
        "\n",
        "j_max = N/2.\n",
        "label_size = 20\n",
        "\n",
        "\n",
        "fig3 = plt.figure(3)\n",
        "#plt.plot(t, nphot_t, 'k-', label='Time evolution')\n",
        "plt.title(r'$\\xi^{2}$ Dynamics', fontsize = label_size)\n",
        "\n",
        "plt.plot(Arraytime, np.array(Squeez),label=\"Spin Squeezing\");\n",
        "\n",
        "plt.legend()"
      ],
      "execution_count": null,
      "outputs": []
    },
    {
      "cell_type": "code",
      "metadata": {
        "id": "y1Kk-aCLME1m"
      },
      "source": [
        ""
      ],
      "execution_count": null,
      "outputs": []
    },
    {
      "cell_type": "code",
      "metadata": {
        "id": "1fPeFyYPME1n"
      },
      "source": [
        ""
      ],
      "execution_count": null,
      "outputs": []
    },
    {
      "cell_type": "code",
      "metadata": {
        "id": "sl0IOOXUNQoA"
      },
      "source": [
        "from scipy import integrate"
      ],
      "execution_count": null,
      "outputs": []
    },
    {
      "cell_type": "code",
      "metadata": {
        "id": "Y691Z1PzNQrw"
      },
      "source": [
        "def time_averaging(array,indexes):\n",
        "    result=[]\n",
        "    lower_index=int(0.5*len(array))\n",
        "    \n",
        "    \n",
        "    for j in range(len(array)):\n",
        "        if j<lower_index:\n",
        "            x=times[j:j+indexes]\n",
        "            y=array[j:j+indexes]\n",
        "            y_aver=integrate.trapz(y, x)/(x[-1]-x[0])\n",
        "            result.append(y_aver)\n",
        "            \n",
        "        else:\n",
        "            x=times[j-indexes:j]\n",
        "            y=array[j-indexes:j]\n",
        "            y_aver=integrate.trapz(y, x)/(x[-1]-x[0])\n",
        "            result.append(y_aver)\n",
        "    \n",
        "    return result"
      ],
      "execution_count": null,
      "outputs": []
    },
    {
      "cell_type": "code",
      "metadata": {
        "id": "yavkgSMkNQvM"
      },
      "source": [
        "Squeezing_aver=time_averaging( -10*np.log10(np.array(Squeez))  ,int(len(Arraytime)*0.05));\n",
        "\n"
      ],
      "execution_count": null,
      "outputs": []
    },
    {
      "cell_type": "code",
      "metadata": {
        "id": "U8pNrz47NQyD"
      },
      "source": [
        "plt.plot(Arraytime, Squeezing_aver,label=\"Spin Squeezing\");\n"
      ],
      "execution_count": null,
      "outputs": []
    },
    {
      "cell_type": "code",
      "metadata": {
        "id": "vkCrkyKFNQ02"
      },
      "source": [
        "Squeezing_aver[-int(0.015*len(Arraytime))]"
      ],
      "execution_count": null,
      "outputs": []
    },
    {
      "cell_type": "code",
      "metadata": {
        "id": "-f1rDiVwNQ33"
      },
      "source": [
        ""
      ],
      "execution_count": null,
      "outputs": []
    },
    {
      "cell_type": "code",
      "metadata": {
        "id": "YflN5iaJQYwz"
      },
      "source": [
        "Sz_aver=time_averaging( Result_varDDTWA_EM[2],int(len(Result_varDDTWA_EM[2])*0.05));\n",
        "plt.plot(times, Sz_aver,label=\"Sz\");\n"
      ],
      "execution_count": null,
      "outputs": []
    },
    {
      "cell_type": "code",
      "metadata": {
        "id": "4rWhSB4KQY2m"
      },
      "source": [
        "Sz_aver[-int(0.015*len(Result_varDDTWA_EM[2]))]"
      ],
      "execution_count": null,
      "outputs": []
    },
    {
      "cell_type": "code",
      "metadata": {
        "id": "Rcw7WpSPQY5s"
      },
      "source": [
        ""
      ],
      "execution_count": null,
      "outputs": []
    },
    {
      "cell_type": "code",
      "metadata": {
        "id": "VyjRtMk-QY8Q"
      },
      "source": [
        ""
      ],
      "execution_count": null,
      "outputs": []
    },
    {
      "cell_type": "code",
      "metadata": {
        "id": "nfxIQeHvQY-0"
      },
      "source": [
        ""
      ],
      "execution_count": null,
      "outputs": []
    },
    {
      "cell_type": "code",
      "metadata": {
        "id": "AiKW9QQtNQ65"
      },
      "source": [
        ""
      ],
      "execution_count": null,
      "outputs": []
    },
    {
      "cell_type": "code",
      "metadata": {
        "id": "RylxrzzSNQ_G"
      },
      "source": [
        ""
      ],
      "execution_count": null,
      "outputs": []
    },
    {
      "cell_type": "code",
      "metadata": {
        "id": "f46S2nFtNRAx"
      },
      "source": [
        ""
      ],
      "execution_count": null,
      "outputs": []
    },
    {
      "cell_type": "code",
      "metadata": {
        "id": "uUiC5m-SME1n"
      },
      "source": [
        "len(Result_varDDTWA_EM[0])"
      ],
      "execution_count": null,
      "outputs": []
    },
    {
      "cell_type": "code",
      "metadata": {
        "id": "8YmvVVMfME1n"
      },
      "source": [
        "j=40000\n",
        "\n",
        "Sx= Result_varDDTWA_EM[0][j]\n",
        "Sy= Result_varDDTWA_EM[1][j]\n",
        "Sz= Result_varDDTWA_EM[2][j]\n",
        "    \n",
        "Sxx= N/4+Result_varDDTWA_EM[3][j]\n",
        "Syy= N/4+Result_varDDTWA_EM[4][j]\n",
        "Szz= N/4+Result_varDDTWA_EM[5][j]\n",
        "    \n",
        "Sxy= Result_varDDTWA_EM[11][j]\n",
        "Syz= Result_varDDTWA_EM[12][j]\n",
        "Szx= Result_varDDTWA_EM[13][j]\n",
        "\n",
        "print(Sx,Sy,Sz,Sxx,Syy,Szz,Sxy,Syz,Szx)"
      ],
      "execution_count": null,
      "outputs": []
    },
    {
      "cell_type": "code",
      "metadata": {
        "id": "nwrAE_liME1o"
      },
      "source": [
        "len(Squeez)"
      ],
      "execution_count": null,
      "outputs": []
    },
    {
      "cell_type": "code",
      "metadata": {
        "id": "OsWN_DQfME1p"
      },
      "source": [
        "print(Squeez[3999],Squeez[4000],Squeez[4001])"
      ],
      "execution_count": null,
      "outputs": []
    },
    {
      "cell_type": "code",
      "metadata": {
        "id": "y4Ri_OpbME1p"
      },
      "source": [
        ""
      ],
      "execution_count": null,
      "outputs": []
    },
    {
      "cell_type": "code",
      "metadata": {
        "id": "GUrthvAwME1p"
      },
      "source": [
        ""
      ],
      "execution_count": null,
      "outputs": []
    },
    {
      "cell_type": "code",
      "metadata": {
        "id": "3QAcTyHJME1q"
      },
      "source": [
        ""
      ],
      "execution_count": null,
      "outputs": []
    }
  ]
}